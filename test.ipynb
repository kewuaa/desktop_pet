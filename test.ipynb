{
 "cells": [
  {
   "cell_type": "code",
   "execution_count": 3,
   "metadata": {},
   "outputs": [],
   "source": [
    "from py_mini_racer import MiniRacer\n",
    "ctx = MiniRacer()"
   ]
  },
  {
   "cell_type": "code",
   "execution_count": 4,
   "metadata": {},
   "outputs": [
    {
     "ename": "JSEvalException",
     "evalue": "Uncaught ReferenceError: global is not defined at undefined:1:0\nReferenceError: global is not defined\n    at <anonymous>:1:1",
     "output_type": "error",
     "traceback": [
      "\u001b[1;31m---------------------------------------------------------------------------\u001b[0m",
      "\u001b[1;31mJSEvalException\u001b[0m                           Traceback (most recent call last)",
      "\u001b[1;32me:\\desktop_pet\\test.ipynb Cell 2'\u001b[0m in \u001b[0;36m<cell line: 1>\u001b[1;34m()\u001b[0m\n\u001b[0;32m      <a href='vscode-notebook-cell:/e%3A/desktop_pet/test.ipynb#ch0000001?line=0'>1</a>\u001b[0m \u001b[39mwith\u001b[39;00m \u001b[39mopen\u001b[39m(\u001b[39m'\u001b[39m\u001b[39mE:\u001b[39m\u001b[39m\\\u001b[39m\u001b[39mdesktop_pet\u001b[39m\u001b[39m\\\u001b[39m\u001b[39mpet\u001b[39m\u001b[39m\\\u001b[39m\u001b[39mmusic\u001b[39m\u001b[39m\\\u001b[39m\u001b[39mqq\u001b[39m\u001b[39m\\\u001b[39m\u001b[39mLT75GqyJE.js\u001b[39m\u001b[39m'\u001b[39m, \u001b[39m'\u001b[39m\u001b[39mr\u001b[39m\u001b[39m'\u001b[39m) \u001b[39mas\u001b[39;00m f:\n\u001b[1;32m----> <a href='vscode-notebook-cell:/e%3A/desktop_pet/test.ipynb#ch0000001?line=1'>2</a>\u001b[0m     ctx\u001b[39m.\u001b[39;49meval(f\u001b[39m.\u001b[39;49mread()\u001b[39m.\u001b[39;49msplit(\u001b[39m'\u001b[39;49m\u001b[39m/\u001b[39;49m\u001b[39m'\u001b[39;49m \u001b[39m*\u001b[39;49m \u001b[39m33\u001b[39;49m)[\u001b[39m0\u001b[39;49m])\n",
      "File \u001b[1;32mE:\\virtual_env\\download_env\\lib\\site-packages\\py_mini_racer\\py_mini_racer.py:221\u001b[0m, in \u001b[0;36mMiniRacer.eval\u001b[1;34m(self, code, timeout, max_memory)\u001b[0m\n\u001b[0;32m    <a href='file:///e%3A/virtual_env/download_env/lib/site-packages/py_mini_racer/py_mini_racer.py?line=217'>218</a>\u001b[0m \u001b[39mif\u001b[39;00m \u001b[39mnot\u001b[39;00m res:\n\u001b[0;32m    <a href='file:///e%3A/virtual_env/download_env/lib/site-packages/py_mini_racer/py_mini_racer.py?line=218'>219</a>\u001b[0m     \u001b[39mraise\u001b[39;00m JSConversionException()\n\u001b[1;32m--> <a href='file:///e%3A/virtual_env/download_env/lib/site-packages/py_mini_racer/py_mini_racer.py?line=220'>221</a>\u001b[0m \u001b[39mreturn\u001b[39;00m MiniRacerValue(\u001b[39mself\u001b[39;49m, res)\u001b[39m.\u001b[39;49mto_python()\n",
      "File \u001b[1;32mE:\\virtual_env\\download_env\\lib\\site-packages\\py_mini_racer\\py_mini_racer.py:403\u001b[0m, in \u001b[0;36mMiniRacerValue.to_python\u001b[1;34m(self)\u001b[0m\n\u001b[0;32m    <a href='file:///e%3A/virtual_env/download_env/lib/site-packages/py_mini_racer/py_mini_racer.py?line=401'>402</a>\u001b[0m \u001b[39mdef\u001b[39;00m \u001b[39mto_python\u001b[39m(\u001b[39mself\u001b[39m):\n\u001b[1;32m--> <a href='file:///e%3A/virtual_env/download_env/lib/site-packages/py_mini_racer/py_mini_racer.py?line=402'>403</a>\u001b[0m     \u001b[39mself\u001b[39;49m\u001b[39m.\u001b[39;49m_raise_from_error()\n\u001b[0;32m    <a href='file:///e%3A/virtual_env/download_env/lib/site-packages/py_mini_racer/py_mini_racer.py?line=403'>404</a>\u001b[0m     result \u001b[39m=\u001b[39m \u001b[39mNone\u001b[39;00m\n\u001b[0;32m    <a href='file:///e%3A/virtual_env/download_env/lib/site-packages/py_mini_racer/py_mini_racer.py?line=404'>405</a>\u001b[0m     typ \u001b[39m=\u001b[39m \u001b[39mself\u001b[39m\u001b[39m.\u001b[39mtype\n",
      "File \u001b[1;32mE:\\virtual_env\\download_env\\lib\\site-packages\\py_mini_racer\\py_mini_racer.py:394\u001b[0m, in \u001b[0;36mMiniRacerValue._raise_from_error\u001b[1;34m(self)\u001b[0m\n\u001b[0;32m    <a href='file:///e%3A/virtual_env/download_env/lib/site-packages/py_mini_racer/py_mini_racer.py?line=391'>392</a>\u001b[0m \u001b[39melif\u001b[39;00m \u001b[39mself\u001b[39m\u001b[39m.\u001b[39mtype \u001b[39m==\u001b[39m MiniRacerTypes\u001b[39m.\u001b[39mexecute_exception:\n\u001b[0;32m    <a href='file:///e%3A/virtual_env/download_env/lib/site-packages/py_mini_racer/py_mini_racer.py?line=392'>393</a>\u001b[0m     msg \u001b[39m=\u001b[39m ctypes\u001b[39m.\u001b[39mc_char_p(\u001b[39mself\u001b[39m\u001b[39m.\u001b[39mvalue)\u001b[39m.\u001b[39mvalue\n\u001b[1;32m--> <a href='file:///e%3A/virtual_env/download_env/lib/site-packages/py_mini_racer/py_mini_racer.py?line=393'>394</a>\u001b[0m     \u001b[39mraise\u001b[39;00m JSEvalException(msg\u001b[39m.\u001b[39mdecode(\u001b[39m'\u001b[39m\u001b[39mutf-8\u001b[39m\u001b[39m'\u001b[39m, errors\u001b[39m=\u001b[39m\u001b[39m'\u001b[39m\u001b[39mreplace\u001b[39m\u001b[39m'\u001b[39m))\n\u001b[0;32m    <a href='file:///e%3A/virtual_env/download_env/lib/site-packages/py_mini_racer/py_mini_racer.py?line=394'>395</a>\u001b[0m \u001b[39melif\u001b[39;00m \u001b[39mself\u001b[39m\u001b[39m.\u001b[39mtype \u001b[39m==\u001b[39m MiniRacerTypes\u001b[39m.\u001b[39moom_exception:\n\u001b[0;32m    <a href='file:///e%3A/virtual_env/download_env/lib/site-packages/py_mini_racer/py_mini_racer.py?line=395'>396</a>\u001b[0m     msg \u001b[39m=\u001b[39m ctypes\u001b[39m.\u001b[39mc_char_p(\u001b[39mself\u001b[39m\u001b[39m.\u001b[39mvalue)\u001b[39m.\u001b[39mvalue\n",
      "\u001b[1;31mJSEvalException\u001b[0m: Uncaught ReferenceError: global is not defined at undefined:1:0\nReferenceError: global is not defined\n    at <anonymous>:1:1"
     ]
    }
   ],
   "source": [
    "with open('E:\\desktop_pet\\pet\\music\\qq\\LT75GqyJE.js', 'r') as f:\n",
    "    ctx.eval(f.read().split('/' * 33)[0])"
   ]
  },
  {
   "cell_type": "code",
   "execution_count": null,
   "metadata": {},
   "outputs": [],
   "source": [
    "ctx.call('main')"
   ]
  }
 ],
 "metadata": {
  "interpreter": {
   "hash": "93a245764de2baf5344741aa003069864fb7ab1ee6f4489072ae934b9b5e5a91"
  },
  "kernelspec": {
   "display_name": "Python 3.9.9 ('download_env')",
   "language": "python",
   "name": "python3"
  },
  "language_info": {
   "codemirror_mode": {
    "name": "ipython",
    "version": 3
   },
   "file_extension": ".py",
   "mimetype": "text/x-python",
   "name": "python",
   "nbconvert_exporter": "python",
   "pygments_lexer": "ipython3",
   "version": "3.9.9"
  },
  "orig_nbformat": 4
 },
 "nbformat": 4,
 "nbformat_minor": 2
}
